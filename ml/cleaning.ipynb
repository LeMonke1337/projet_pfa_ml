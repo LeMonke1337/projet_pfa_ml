{
 "cells": [
  {
   "cell_type": "code",
   "execution_count": 1,
   "metadata": {},
   "outputs": [
    {
     "name": "stderr",
     "output_type": "stream",
     "text": [
      "[nltk_data] Downloading package stopwords to\n",
      "[nltk_data]     C:\\Users\\omar\\AppData\\Roaming\\nltk_data...\n",
      "[nltk_data]   Package stopwords is already up-to-date!\n"
     ]
    },
    {
     "data": {
      "text/plain": [
       "True"
      ]
     },
     "execution_count": 1,
     "metadata": {},
     "output_type": "execute_result"
    }
   ],
   "source": [
    "import pandas as pd\n",
    "import numpy as np\n",
    "import re\n",
    "import spacy\n",
    "import nltk\n",
    "from nltk.corpus import stopwords\n",
    "\n",
    "nlp = spacy.load(\"en_core_web_sm\")\n",
    "nltk.download(\"stopwords\")"
   ]
  },
  {
   "cell_type": "code",
   "execution_count": 2,
   "metadata": {},
   "outputs": [
    {
     "data": {
      "text/html": [
       "<div>\n",
       "<style scoped>\n",
       "    .dataframe tbody tr th:only-of-type {\n",
       "        vertical-align: middle;\n",
       "    }\n",
       "\n",
       "    .dataframe tbody tr th {\n",
       "        vertical-align: top;\n",
       "    }\n",
       "\n",
       "    .dataframe thead th {\n",
       "        text-align: right;\n",
       "    }\n",
       "</style>\n",
       "<table border=\"1\" class=\"dataframe\">\n",
       "  <thead>\n",
       "    <tr style=\"text-align: right;\">\n",
       "      <th></th>\n",
       "      <th>ID</th>\n",
       "      <th>Resume_str</th>\n",
       "      <th>Category</th>\n",
       "    </tr>\n",
       "  </thead>\n",
       "  <tbody>\n",
       "    <tr>\n",
       "      <th>0</th>\n",
       "      <td>16852973</td>\n",
       "      <td>HR ADMINISTRATOR/MARKETING ASSOCIATE\\...</td>\n",
       "      <td>HR</td>\n",
       "    </tr>\n",
       "    <tr>\n",
       "      <th>1</th>\n",
       "      <td>22323967</td>\n",
       "      <td>HR SPECIALIST, US HR OPERATIONS      ...</td>\n",
       "      <td>HR</td>\n",
       "    </tr>\n",
       "    <tr>\n",
       "      <th>2</th>\n",
       "      <td>33176873</td>\n",
       "      <td>HR DIRECTOR       Summary      Over 2...</td>\n",
       "      <td>HR</td>\n",
       "    </tr>\n",
       "    <tr>\n",
       "      <th>3</th>\n",
       "      <td>27018550</td>\n",
       "      <td>HR SPECIALIST       Summary    Dedica...</td>\n",
       "      <td>HR</td>\n",
       "    </tr>\n",
       "    <tr>\n",
       "      <th>4</th>\n",
       "      <td>17812897</td>\n",
       "      <td>HR MANAGER         Skill Highlights  ...</td>\n",
       "      <td>HR</td>\n",
       "    </tr>\n",
       "  </tbody>\n",
       "</table>\n",
       "</div>"
      ],
      "text/plain": [
       "         ID                                         Resume_str Category\n",
       "0  16852973           HR ADMINISTRATOR/MARKETING ASSOCIATE\\...       HR\n",
       "1  22323967           HR SPECIALIST, US HR OPERATIONS      ...       HR\n",
       "2  33176873           HR DIRECTOR       Summary      Over 2...       HR\n",
       "3  27018550           HR SPECIALIST       Summary    Dedica...       HR\n",
       "4  17812897           HR MANAGER         Skill Highlights  ...       HR"
      ]
     },
     "execution_count": 2,
     "metadata": {},
     "output_type": "execute_result"
    }
   ],
   "source": [
    "df = pd.read_csv(\"Resume.csv\") \n",
    "\n",
    "df.drop('Resume_html' , axis=1 , inplace=True)\n",
    "\n",
    "df.head()"
   ]
  },
  {
   "cell_type": "code",
   "execution_count": 3,
   "metadata": {},
   "outputs": [
    {
     "data": {
      "text/html": [
       "<div>\n",
       "<style scoped>\n",
       "    .dataframe tbody tr th:only-of-type {\n",
       "        vertical-align: middle;\n",
       "    }\n",
       "\n",
       "    .dataframe tbody tr th {\n",
       "        vertical-align: top;\n",
       "    }\n",
       "\n",
       "    .dataframe thead th {\n",
       "        text-align: right;\n",
       "    }\n",
       "</style>\n",
       "<table border=\"1\" class=\"dataframe\">\n",
       "  <thead>\n",
       "    <tr style=\"text-align: right;\">\n",
       "      <th></th>\n",
       "      <th>ID</th>\n",
       "      <th>Category</th>\n",
       "      <th>cleaned_Resume_str</th>\n",
       "    </tr>\n",
       "  </thead>\n",
       "  <tbody>\n",
       "    <tr>\n",
       "      <th>0</th>\n",
       "      <td>16852973</td>\n",
       "      <td>HR</td>\n",
       "      <td>HR ADMINISTRATORMARKETING ASSOCIATE HR ADMINIS...</td>\n",
       "    </tr>\n",
       "    <tr>\n",
       "      <th>1</th>\n",
       "      <td>22323967</td>\n",
       "      <td>HR</td>\n",
       "      <td>HR SPECIALIST US HR OPERATIONS Summary Versati...</td>\n",
       "    </tr>\n",
       "    <tr>\n",
       "      <th>2</th>\n",
       "      <td>33176873</td>\n",
       "      <td>HR</td>\n",
       "      <td>HR DIRECTOR Summary Over years experience in r...</td>\n",
       "    </tr>\n",
       "    <tr>\n",
       "      <th>3</th>\n",
       "      <td>27018550</td>\n",
       "      <td>HR</td>\n",
       "      <td>HR SPECIALIST Summary Dedicated Driven and Dyn...</td>\n",
       "    </tr>\n",
       "    <tr>\n",
       "      <th>4</th>\n",
       "      <td>17812897</td>\n",
       "      <td>HR</td>\n",
       "      <td>HR MANAGER Skill Highlights HR SKILLS HR Depar...</td>\n",
       "    </tr>\n",
       "    <tr>\n",
       "      <th>...</th>\n",
       "      <td>...</td>\n",
       "      <td>...</td>\n",
       "      <td>...</td>\n",
       "    </tr>\n",
       "    <tr>\n",
       "      <th>2479</th>\n",
       "      <td>99416532</td>\n",
       "      <td>AVIATION</td>\n",
       "      <td>RANK SGTE NON COMMISSIONED OFFICER IN CHARGE B...</td>\n",
       "    </tr>\n",
       "    <tr>\n",
       "      <th>2480</th>\n",
       "      <td>24589765</td>\n",
       "      <td>AVIATION</td>\n",
       "      <td>GOVERNMENT RELATIONS COMMUNICATIONS AND ORGANI...</td>\n",
       "    </tr>\n",
       "    <tr>\n",
       "      <th>2481</th>\n",
       "      <td>31605080</td>\n",
       "      <td>AVIATION</td>\n",
       "      <td>GEEK SQUAD AGENT Professional Profile IT suppo...</td>\n",
       "    </tr>\n",
       "    <tr>\n",
       "      <th>2482</th>\n",
       "      <td>21190805</td>\n",
       "      <td>AVIATION</td>\n",
       "      <td>PROGRAM DIRECTOR OFFICE MANAGER Summary Highly...</td>\n",
       "    </tr>\n",
       "    <tr>\n",
       "      <th>2483</th>\n",
       "      <td>37473139</td>\n",
       "      <td>AVIATION</td>\n",
       "      <td>STOREKEEPER II Professional Summary The purpos...</td>\n",
       "    </tr>\n",
       "  </tbody>\n",
       "</table>\n",
       "<p>2484 rows × 3 columns</p>\n",
       "</div>"
      ],
      "text/plain": [
       "            ID  Category                                 cleaned_Resume_str\n",
       "0     16852973        HR  HR ADMINISTRATORMARKETING ASSOCIATE HR ADMINIS...\n",
       "1     22323967        HR  HR SPECIALIST US HR OPERATIONS Summary Versati...\n",
       "2     33176873        HR  HR DIRECTOR Summary Over years experience in r...\n",
       "3     27018550        HR  HR SPECIALIST Summary Dedicated Driven and Dyn...\n",
       "4     17812897        HR  HR MANAGER Skill Highlights HR SKILLS HR Depar...\n",
       "...        ...       ...                                                ...\n",
       "2479  99416532  AVIATION  RANK SGTE NON COMMISSIONED OFFICER IN CHARGE B...\n",
       "2480  24589765  AVIATION  GOVERNMENT RELATIONS COMMUNICATIONS AND ORGANI...\n",
       "2481  31605080  AVIATION  GEEK SQUAD AGENT Professional Profile IT suppo...\n",
       "2482  21190805  AVIATION  PROGRAM DIRECTOR OFFICE MANAGER Summary Highly...\n",
       "2483  37473139  AVIATION  STOREKEEPER II Professional Summary The purpos...\n",
       "\n",
       "[2484 rows x 3 columns]"
      ]
     },
     "execution_count": 3,
     "metadata": {},
     "output_type": "execute_result"
    }
   ],
   "source": [
    "def clean_text(text):\n",
    "    text = re.sub(r'[^A-Za-z\\s]', '', text)  \n",
    "    text = re.sub(r'\\s+', ' ', text).strip()    \n",
    "    return text\n",
    "\n",
    "df['cleaned_Resume_str'] = df['Resume_str'].apply(clean_text)\n",
    "\n",
    "df.drop(\"Resume_str\" , axis=1 , inplace=True)\n",
    "\n",
    "df"
   ]
  },
  {
   "cell_type": "code",
   "execution_count": 4,
   "metadata": {},
   "outputs": [],
   "source": [
    "def remove_stopwords(text):\n",
    "    stop_words = set(stopwords.words(\"english\"))\n",
    "    words = text.split()\n",
    "    filtered_words = []\n",
    "    for word in words:\n",
    "        if word.lower() not in stop_words:\n",
    "            filtered_words.append(word)\n",
    "            \n",
    "    return \" \".join(filtered_words)"
   ]
  },
  {
   "cell_type": "code",
   "execution_count": 5,
   "metadata": {},
   "outputs": [
    {
     "data": {
      "text/html": [
       "<div>\n",
       "<style scoped>\n",
       "    .dataframe tbody tr th:only-of-type {\n",
       "        vertical-align: middle;\n",
       "    }\n",
       "\n",
       "    .dataframe tbody tr th {\n",
       "        vertical-align: top;\n",
       "    }\n",
       "\n",
       "    .dataframe thead th {\n",
       "        text-align: right;\n",
       "    }\n",
       "</style>\n",
       "<table border=\"1\" class=\"dataframe\">\n",
       "  <thead>\n",
       "    <tr style=\"text-align: right;\">\n",
       "      <th></th>\n",
       "      <th>ID</th>\n",
       "      <th>Category</th>\n",
       "      <th>cleaned_Resume_str</th>\n",
       "    </tr>\n",
       "  </thead>\n",
       "  <tbody>\n",
       "    <tr>\n",
       "      <th>0</th>\n",
       "      <td>16852973</td>\n",
       "      <td>HR</td>\n",
       "      <td>HR ADMINISTRATORMARKETING ASSOCIATE HR ADMINIS...</td>\n",
       "    </tr>\n",
       "    <tr>\n",
       "      <th>1</th>\n",
       "      <td>22323967</td>\n",
       "      <td>HR</td>\n",
       "      <td>HR SPECIALIST US HR OPERATIONS Summary Versati...</td>\n",
       "    </tr>\n",
       "    <tr>\n",
       "      <th>2</th>\n",
       "      <td>33176873</td>\n",
       "      <td>HR</td>\n",
       "      <td>HR DIRECTOR Summary Over years experience in r...</td>\n",
       "    </tr>\n",
       "    <tr>\n",
       "      <th>3</th>\n",
       "      <td>27018550</td>\n",
       "      <td>HR</td>\n",
       "      <td>HR SPECIALIST Summary Dedicated Driven and Dyn...</td>\n",
       "    </tr>\n",
       "    <tr>\n",
       "      <th>4</th>\n",
       "      <td>17812897</td>\n",
       "      <td>HR</td>\n",
       "      <td>HR MANAGER Skill Highlights HR SKILLS HR Depar...</td>\n",
       "    </tr>\n",
       "  </tbody>\n",
       "</table>\n",
       "</div>"
      ],
      "text/plain": [
       "         ID Category                                 cleaned_Resume_str\n",
       "0  16852973       HR  HR ADMINISTRATORMARKETING ASSOCIATE HR ADMINIS...\n",
       "1  22323967       HR  HR SPECIALIST US HR OPERATIONS Summary Versati...\n",
       "2  33176873       HR  HR DIRECTOR Summary Over years experience in r...\n",
       "3  27018550       HR  HR SPECIALIST Summary Dedicated Driven and Dyn...\n",
       "4  17812897       HR  HR MANAGER Skill Highlights HR SKILLS HR Depar..."
      ]
     },
     "execution_count": 5,
     "metadata": {},
     "output_type": "execute_result"
    }
   ],
   "source": [
    "df['cleaned_Resume_str'].apply(remove_stopwords)\n",
    "\n",
    "df.rename(columns={\"cleaner_Resume_str\" : \"resume_str\"} , inplace=True)\n",
    "\n",
    "df.head()"
   ]
  },
  {
   "cell_type": "code",
   "execution_count": 6,
   "metadata": {},
   "outputs": [
    {
     "data": {
      "text/plain": [
       "array(['HR', 'DESIGNER', 'INFORMATION-TECHNOLOGY', 'TEACHER', 'ADVOCATE',\n",
       "       'BUSINESS-DEVELOPMENT', 'HEALTHCARE', 'FITNESS', 'AGRICULTURE',\n",
       "       'BPO', 'SALES', 'CONSULTANT', 'DIGITAL-MEDIA', 'AUTOMOBILE',\n",
       "       'CHEF', 'FINANCE', 'APPAREL', 'ENGINEERING', 'ACCOUNTANT',\n",
       "       'CONSTRUCTION', 'PUBLIC-RELATIONS', 'BANKING', 'ARTS', 'AVIATION'],\n",
       "      dtype=object)"
      ]
     },
     "execution_count": 6,
     "metadata": {},
     "output_type": "execute_result"
    }
   ],
   "source": [
    "df.Category.unique()"
   ]
  },
  {
   "cell_type": "code",
   "execution_count": 7,
   "metadata": {},
   "outputs": [
    {
     "data": {
      "text/plain": [
       "'HR SPECIALIST US HR OPERATIONS Summary Versatile media professional with background in Communications Marketing Human Resources and Technology Experience to Current HR Specialist US HR Operations Company Name City State Managed communication regarding launch of Operations group policy changes and system outages Designed standard work and job aids to create comprehensive training program for new employees and contractors Audited job postings for old pending onhold and draft positions Audited union hourly nonunion hourly and salary background checks and drug screens Conducted monthly new hire benefits briefing to new employees across all business units Served as a link between HR Managers and vendors by handling questions and resolving systemrelated issues Provide realtime process improvement feedback on key metrics and initiatives Successfully rebranded US HR Operations SharePoint site Business Unit project manager for RFIRFP on Background Check and Drug Screen vendor to IT Marketing and Communications Coop Company Name City State Posted new articles changes and updates to corporate SharePoint site including graphics and visual communications Researched and drafted articles and feature stories to promote company activities and programs Coedited and developed content for quarterly published newsletter Provided communication support for internal and external events Collaborated with Communication team media professionals and vendors to determine program needs for print materials web design and digital communications Entrusted to lead product service and software launches for Digital Asset Management tool Marketing Toolkit website and Executive Tradeshows Calendar Created presentations for management and executive approval to ensure alignment with corporate guidelines and branding Maintained the MySikorsky SharePoint site and provided timely solutions to mitigate issues Created story board and produced video for annual IT All Hands meeting to Relationship CoordinatorMarketing Specialist Company Name City State Partnered with vendor to manage the inhouse advertising program consisting of print and media collateral pieces Coordinated preshow and postshow activities at trade shows Managed marketing campaigns to generate new business and to support partner and sales teams Ordered marketing collateral for meetings trade shows and advisors Improved administered and modified marketing programs to increase product awareness Assisted in preparing internal promotional publications managed marketing material inventory and supervised distribution of publications to ensure high quality product output Coordinated marketing materials including brochures promotional materials and products Partnered with graphic designers to develop appropriate materials and branding for brochures Used tracking and reporting systems for sales leads and appointments to Assistant Head Teller Company Name City State Received an internal audit score of Performed daily and monthly audits of ATM machines and tellers Educated customers on a variety of retail products and available credit options Consistently met or exceeded quarterly sales goals Promoted products and services to customers while maintaining company brand identity Implemented programs to achieve and exceed customer and company participation goals Organized company sponsored events on campus resulting in increased brand awareness Coached peers on the proper use of programs to improve work flow efficiency Utilized product knowledge to successfully sell to and refer clients based on individual needs Promoted marketing the grand opening of new branch locations to strengthen company brand affinity Organized company sponsored events resulting in increased brand awareness and improved sales Coached peers on the proper use of programs to increase work flow efficiency Senior Producer SHU Media Exchange Company Name City State Planned and executed event focusing on Connecticuts creative corridor growth of industry and opportunities that come with development A panel of industry professionals addressed topics related to media and hosted a question and answer session for approximately attendees Following the forum guests were invited to engage in networking and conversation at a postevent reception Education Master of Arts Corporate Communication Public Relations Sacred Heart University City State Bachelor of Arts Relational Communication Western Connecticut State University City State Skills Adobe Photoshop ADP Asset Management branding brochures content Customer Care Final Cut Pro graphics graphic HR Illustrator InDesign Innovation inventory Lotus Notes marketing marketing materials marketing material materials Microsoft Office SharePoint newsletter presentations process improvement Project Management promotional materials publications Quality realtime Recruitment reporting RFP sales stories Employee Development video web design website articles'"
      ]
     },
     "execution_count": 7,
     "metadata": {},
     "output_type": "execute_result"
    }
   ],
   "source": [
    "desired_sections = [\"Education\" , \"Experience\" , \"Skills\" , \"Certifications\" , \"Projects \"]\n",
    "\n",
    "\n",
    "df.cleaned_Resume_str[1]"
   ]
  },
  {
   "cell_type": "code",
   "execution_count": 8,
   "metadata": {},
   "outputs": [],
   "source": [
    "test_str = 'HR SPECIALIST US HR OPERATIONS Summary Versatile media professional with background in Communications Marketing Human Resources and Technology Experience to Current HR Specialist US HR Operations Company Name City State Managed communication regarding launch of Operations group policy changes and system outages Designed standard work and job aids to create comprehensive training program for new employees and contractors Audited job postings for old pending onhold and draft positions Audited union hourly nonunion hourly and salary background checks and drug screens Conducted monthly new hire benefits briefing to new employees across all business units Served as a link between HR Managers and vendors by handling questions and resolving systemrelated issues Provide realtime process improvement feedback on key metrics and initiatives Successfully rebranded US HR Operations SharePoint site Business Unit project manager for RFIRFP on Background Check and Drug Screen vendor to IT Marketing and Communications Coop Company Name City State Posted new articles changes and updates to corporate SharePoint site including graphics and visual communications Researched and drafted articles and feature stories to promote company activities and programs Coedited and developed content for quarterly published newsletter Provided communication support for internal and external events Collaborated with Communication team media professionals and vendors to determine program needs for print materials web design and digital communications Entrusted to lead product service and software launches for Digital Asset Management tool Marketing Toolkit website and Executive Tradeshows Calendar Created presentations for management and executive approval to ensure alignment with corporate guidelines and branding Maintained the MySikorsky SharePoint site and provided timely solutions to mitigate issues Created story board and produced video for annual IT All Hands meeting to Relationship CoordinatorMarketing Specialist Company Name City State Partnered with vendor to manage the inhouse advertising program consisting of print and media collateral pieces Coordinated preshow and postshow activities at trade shows Managed marketing campaigns to generate new business and to support partner and sales teams Ordered marketing collateral for meetings trade shows and advisors Improved administered and modified marketing programs to increase product awareness Assisted in preparing internal promotional publications managed marketing material inventory and supervised distribution of publications to ensure high quality product output Coordinated marketing materials including brochures promotional materials and products Partnered with graphic designers to develop appropriate materials and branding for brochures Used tracking and reporting systems for sales leads and appointments to Assistant Head Teller Company Name City State Received an internal audit score of Performed daily and monthly audits of ATM machines and tellers Educated customers on a variety of retail products and available credit options Consistently met or exceeded quarterly sales goals Promoted products and services to customers while maintaining company brand identity Implemented programs to achieve and exceed customer and company participation goals Organized company sponsored events on campus resulting in increased brand awareness Coached peers on the proper use of programs to improve work flow efficiency Utilized product knowledge to successfully sell to and refer clients based on individual needs Promoted marketing the grand opening of new branch locations to strengthen company brand affinity Organized company sponsored events resulting in increased brand awareness and improved sales Coached peers on the proper use of programs to increase work flow efficiency Senior Producer SHU Media Exchange Company Name City State Planned and executed event focusing on Connecticuts creative corridor growth of industry and opportunities that come with development A panel of industry professionals addressed topics related to media and hosted a question and answer session for approximately attendees Following the forum guests were invited to engage in networking and conversation at a postevent reception Education Master of Arts Corporate Communication Public Relations Sacred Heart University City State Bachelor of Arts Relational Communication Western Connecticut State University City State Skills Adobe Photoshop ADP Asset Management branding brochures content Customer Care Final Cut Pro graphics graphic HR Illustrator InDesign Innovation inventory Lotus Notes marketing marketing materials marketing material materials Microsoft Office SharePoint newsletter presentations process improvement Project Management promotional materials publications Quality realtime Recruitment reporting RFP sales stories Employee Development video web design website articles'"
   ]
  },
  {
   "cell_type": "code",
   "execution_count": 9,
   "metadata": {},
   "outputs": [],
   "source": [
    "def extract_sections_spacy(text, sections):\n",
    "    doc = nlp(text)\n",
    "    extracted_sections = {}\n",
    "    \n",
    "    current_section = None\n",
    "    current_content = []\n",
    "    \n",
    "    for token in doc:  # Traiter chaque token dans le texte\n",
    "        for section in sections:\n",
    "            if section.lower() in token.text.lower():\n",
    "                if current_section:\n",
    "                    extracted_sections[current_section] = \" \".join(current_content).strip()\n",
    "                current_section = section\n",
    "                current_content = []\n",
    "                break\n",
    "        \n",
    "        if current_section:\n",
    "            current_content.append(token.text)\n",
    "    \n",
    "    if current_section:\n",
    "        extracted_sections[current_section] = \" \".join(current_content).strip()\n",
    "    \n",
    "    return extracted_sections"
   ]
  },
  {
   "cell_type": "code",
   "execution_count": null,
   "metadata": {},
   "outputs": [],
   "source": [
    "for section in desired_sections:\n",
    "    df[section] = df['cleaned_Resume_str'].apply(lambda x: extract_sections_spacy(x, desired_sections).get(section, ''))\n",
    "\n",
    "\n",
    "\n",
    "df.head()"
   ]
  },
  {
   "cell_type": "code",
   "execution_count": null,
   "metadata": {},
   "outputs": [],
   "source": [
    "df.drop(columns=\"cleaned_Resume_str\" , inplace=True )\n",
    "df.drop(\"Certifications\" , inplace=True)\n",
    "df.drop(\"Projects\" , inplace=True)\n",
    "\n",
    "df.Experience = df.Experience.str.lower()\n",
    "df.Skills = df.Skills.str.lower()\n",
    "df.Education = df.Education.str.lower()\n",
    "\n",
    "df.to_csv(\"resume_v2.csv\" , index=False)"
   ]
  },
  {
   "cell_type": "code",
   "execution_count": null,
   "metadata": {},
   "outputs": [],
   "source": []
  }
 ],
 "metadata": {
  "kernelspec": {
   "display_name": "Python 3",
   "language": "python",
   "name": "python3"
  },
  "language_info": {
   "codemirror_mode": {
    "name": "ipython",
    "version": 3
   },
   "file_extension": ".py",
   "mimetype": "text/x-python",
   "name": "python",
   "nbconvert_exporter": "python",
   "pygments_lexer": "ipython3",
   "version": "3.12.0"
  }
 },
 "nbformat": 4,
 "nbformat_minor": 2
}
