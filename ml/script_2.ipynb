{
 "cells": [
  {
   "cell_type": "code",
   "execution_count": 38,
   "metadata": {},
   "outputs": [],
   "source": [
    "import pandas as pd\n",
    "from sklearn.preprocessing import LabelEncoder\n",
    "from transformers import TFBertForSequenceClassification  , BertTokenizer\n",
    "from sklearn.model_selection import train_test_split\n",
    "import tensorflow as tf\n",
    "\n",
    "csv = \"resume_v2.csv\""
   ]
  },
  {
   "cell_type": "code",
   "execution_count": 39,
   "metadata": {},
   "outputs": [
    {
     "data": {
      "text/html": [
       "<div>\n",
       "<style scoped>\n",
       "    .dataframe tbody tr th:only-of-type {\n",
       "        vertical-align: middle;\n",
       "    }\n",
       "\n",
       "    .dataframe tbody tr th {\n",
       "        vertical-align: top;\n",
       "    }\n",
       "\n",
       "    .dataframe thead th {\n",
       "        text-align: right;\n",
       "    }\n",
       "</style>\n",
       "<table border=\"1\" class=\"dataframe\">\n",
       "  <thead>\n",
       "    <tr style=\"text-align: right;\">\n",
       "      <th></th>\n",
       "      <th>ID</th>\n",
       "      <th>Category</th>\n",
       "      <th>Education</th>\n",
       "      <th>Experience</th>\n",
       "      <th>Skills</th>\n",
       "      <th>Certifications</th>\n",
       "      <th>Projects</th>\n",
       "    </tr>\n",
       "  </thead>\n",
       "  <tbody>\n",
       "    <tr>\n",
       "      <th>0</th>\n",
       "      <td>16852973</td>\n",
       "      <td>HR</td>\n",
       "      <td>Education NA Business Administration Jefferson...</td>\n",
       "      <td>Experience HR AdministratorMarketing Associate...</td>\n",
       "      <td>skills benefits billing budgeting clients Cust...</td>\n",
       "      <td>NaN</td>\n",
       "      <td>NaN</td>\n",
       "    </tr>\n",
       "    <tr>\n",
       "      <th>1</th>\n",
       "      <td>22323967</td>\n",
       "      <td>HR</td>\n",
       "      <td>Education Master of Arts Corporate Communicati...</td>\n",
       "      <td>Experience to Current HR Specialist US HR Oper...</td>\n",
       "      <td>Skills Adobe Photoshop ADP Asset Management br...</td>\n",
       "      <td>NaN</td>\n",
       "      <td>NaN</td>\n",
       "    </tr>\n",
       "    <tr>\n",
       "      <th>2</th>\n",
       "      <td>33176873</td>\n",
       "      <td>HR</td>\n",
       "      <td>Education and Training Masters Degree Informat...</td>\n",
       "      <td>Experience HR Director to Current Company Name...</td>\n",
       "      <td>Skills Desktop Publishing Newsletter productio...</td>\n",
       "      <td>NaN</td>\n",
       "      <td>NaN</td>\n",
       "    </tr>\n",
       "    <tr>\n",
       "      <th>3</th>\n",
       "      <td>27018550</td>\n",
       "      <td>HR</td>\n",
       "      <td>Education and Training Certificate of Completi...</td>\n",
       "      <td>Experience Hr Specialist May to Oct Company Na...</td>\n",
       "      <td>Skills Key by touch Type wpm filing Access Mic...</td>\n",
       "      <td>NaN</td>\n",
       "      <td>NaN</td>\n",
       "    </tr>\n",
       "    <tr>\n",
       "      <th>4</th>\n",
       "      <td>17812897</td>\n",
       "      <td>HR</td>\n",
       "      <td>Education Bachelor of Business Administration ...</td>\n",
       "      <td>Experience HR Manager Jan to Current Company N...</td>\n",
       "      <td>Skills ADA ADP art agency benefits Benefits Ad...</td>\n",
       "      <td>NaN</td>\n",
       "      <td>NaN</td>\n",
       "    </tr>\n",
       "  </tbody>\n",
       "</table>\n",
       "</div>"
      ],
      "text/plain": [
       "         ID Category                                          Education  \\\n",
       "0  16852973       HR  Education NA Business Administration Jefferson...   \n",
       "1  22323967       HR  Education Master of Arts Corporate Communicati...   \n",
       "2  33176873       HR  Education and Training Masters Degree Informat...   \n",
       "3  27018550       HR  Education and Training Certificate of Completi...   \n",
       "4  17812897       HR  Education Bachelor of Business Administration ...   \n",
       "\n",
       "                                          Experience  \\\n",
       "0  Experience HR AdministratorMarketing Associate...   \n",
       "1  Experience to Current HR Specialist US HR Oper...   \n",
       "2  Experience HR Director to Current Company Name...   \n",
       "3  Experience Hr Specialist May to Oct Company Na...   \n",
       "4  Experience HR Manager Jan to Current Company N...   \n",
       "\n",
       "                                              Skills Certifications  Projects   \n",
       "0  skills benefits billing budgeting clients Cust...            NaN        NaN  \n",
       "1  Skills Adobe Photoshop ADP Asset Management br...            NaN        NaN  \n",
       "2  Skills Desktop Publishing Newsletter productio...            NaN        NaN  \n",
       "3  Skills Key by touch Type wpm filing Access Mic...            NaN        NaN  \n",
       "4  Skills ADA ADP art agency benefits Benefits Ad...            NaN        NaN  "
      ]
     },
     "execution_count": 39,
     "metadata": {},
     "output_type": "execute_result"
    }
   ],
   "source": [
    "df = pd.read_csv(csv)\n",
    "\n",
    "df.head()"
   ]
  },
  {
   "cell_type": "code",
   "execution_count": 40,
   "metadata": {},
   "outputs": [
    {
     "data": {
      "text/html": [
       "<div>\n",
       "<style scoped>\n",
       "    .dataframe tbody tr th:only-of-type {\n",
       "        vertical-align: middle;\n",
       "    }\n",
       "\n",
       "    .dataframe tbody tr th {\n",
       "        vertical-align: top;\n",
       "    }\n",
       "\n",
       "    .dataframe thead th {\n",
       "        text-align: right;\n",
       "    }\n",
       "</style>\n",
       "<table border=\"1\" class=\"dataframe\">\n",
       "  <thead>\n",
       "    <tr style=\"text-align: right;\">\n",
       "      <th></th>\n",
       "      <th>id</th>\n",
       "      <th>category</th>\n",
       "      <th>education</th>\n",
       "      <th>experience</th>\n",
       "      <th>skills</th>\n",
       "      <th>certifications</th>\n",
       "      <th>projects</th>\n",
       "    </tr>\n",
       "  </thead>\n",
       "  <tbody>\n",
       "    <tr>\n",
       "      <th>0</th>\n",
       "      <td>16852973</td>\n",
       "      <td>HR</td>\n",
       "      <td>Education NA Business Administration Jefferson...</td>\n",
       "      <td>Experience HR AdministratorMarketing Associate...</td>\n",
       "      <td>skills benefits billing budgeting clients Cust...</td>\n",
       "      <td>NaN</td>\n",
       "      <td>NaN</td>\n",
       "    </tr>\n",
       "    <tr>\n",
       "      <th>1</th>\n",
       "      <td>22323967</td>\n",
       "      <td>HR</td>\n",
       "      <td>Education Master of Arts Corporate Communicati...</td>\n",
       "      <td>Experience to Current HR Specialist US HR Oper...</td>\n",
       "      <td>Skills Adobe Photoshop ADP Asset Management br...</td>\n",
       "      <td>NaN</td>\n",
       "      <td>NaN</td>\n",
       "    </tr>\n",
       "    <tr>\n",
       "      <th>2</th>\n",
       "      <td>33176873</td>\n",
       "      <td>HR</td>\n",
       "      <td>Education and Training Masters Degree Informat...</td>\n",
       "      <td>Experience HR Director to Current Company Name...</td>\n",
       "      <td>Skills Desktop Publishing Newsletter productio...</td>\n",
       "      <td>NaN</td>\n",
       "      <td>NaN</td>\n",
       "    </tr>\n",
       "    <tr>\n",
       "      <th>3</th>\n",
       "      <td>27018550</td>\n",
       "      <td>HR</td>\n",
       "      <td>Education and Training Certificate of Completi...</td>\n",
       "      <td>Experience Hr Specialist May to Oct Company Na...</td>\n",
       "      <td>Skills Key by touch Type wpm filing Access Mic...</td>\n",
       "      <td>NaN</td>\n",
       "      <td>NaN</td>\n",
       "    </tr>\n",
       "    <tr>\n",
       "      <th>4</th>\n",
       "      <td>17812897</td>\n",
       "      <td>HR</td>\n",
       "      <td>Education Bachelor of Business Administration ...</td>\n",
       "      <td>Experience HR Manager Jan to Current Company N...</td>\n",
       "      <td>Skills ADA ADP art agency benefits Benefits Ad...</td>\n",
       "      <td>NaN</td>\n",
       "      <td>NaN</td>\n",
       "    </tr>\n",
       "  </tbody>\n",
       "</table>\n",
       "</div>"
      ],
      "text/plain": [
       "         id category                                          education  \\\n",
       "0  16852973       HR  Education NA Business Administration Jefferson...   \n",
       "1  22323967       HR  Education Master of Arts Corporate Communicati...   \n",
       "2  33176873       HR  Education and Training Masters Degree Informat...   \n",
       "3  27018550       HR  Education and Training Certificate of Completi...   \n",
       "4  17812897       HR  Education Bachelor of Business Administration ...   \n",
       "\n",
       "                                          experience  \\\n",
       "0  Experience HR AdministratorMarketing Associate...   \n",
       "1  Experience to Current HR Specialist US HR Oper...   \n",
       "2  Experience HR Director to Current Company Name...   \n",
       "3  Experience Hr Specialist May to Oct Company Na...   \n",
       "4  Experience HR Manager Jan to Current Company N...   \n",
       "\n",
       "                                              skills certifications  projects   \n",
       "0  skills benefits billing budgeting clients Cust...            NaN        NaN  \n",
       "1  Skills Adobe Photoshop ADP Asset Management br...            NaN        NaN  \n",
       "2  Skills Desktop Publishing Newsletter productio...            NaN        NaN  \n",
       "3  Skills Key by touch Type wpm filing Access Mic...            NaN        NaN  \n",
       "4  Skills ADA ADP art agency benefits Benefits Ad...            NaN        NaN  "
      ]
     },
     "execution_count": 40,
     "metadata": {},
     "output_type": "execute_result"
    }
   ],
   "source": [
    "df.columns = df.columns.str.lower()\n",
    "\n",
    "df.head()"
   ]
  },
  {
   "cell_type": "code",
   "execution_count": 41,
   "metadata": {},
   "outputs": [
    {
     "data": {
      "text/html": [
       "<div>\n",
       "<style scoped>\n",
       "    .dataframe tbody tr th:only-of-type {\n",
       "        vertical-align: middle;\n",
       "    }\n",
       "\n",
       "    .dataframe tbody tr th {\n",
       "        vertical-align: top;\n",
       "    }\n",
       "\n",
       "    .dataframe thead th {\n",
       "        text-align: right;\n",
       "    }\n",
       "</style>\n",
       "<table border=\"1\" class=\"dataframe\">\n",
       "  <thead>\n",
       "    <tr style=\"text-align: right;\">\n",
       "      <th></th>\n",
       "      <th>id</th>\n",
       "      <th>category</th>\n",
       "      <th>education</th>\n",
       "      <th>experience</th>\n",
       "      <th>skills</th>\n",
       "      <th>certifications</th>\n",
       "      <th>projects</th>\n",
       "    </tr>\n",
       "  </thead>\n",
       "  <tbody>\n",
       "    <tr>\n",
       "      <th>0</th>\n",
       "      <td>16852973</td>\n",
       "      <td>hr</td>\n",
       "      <td>education na business administration jefferson...</td>\n",
       "      <td>experience hr administratormarketing associate...</td>\n",
       "      <td>skills benefits billing budgeting clients cust...</td>\n",
       "      <td>NaN</td>\n",
       "      <td>NaN</td>\n",
       "    </tr>\n",
       "    <tr>\n",
       "      <th>1</th>\n",
       "      <td>22323967</td>\n",
       "      <td>hr</td>\n",
       "      <td>education master of arts corporate communicati...</td>\n",
       "      <td>experience to current hr specialist us hr oper...</td>\n",
       "      <td>skills adobe photoshop adp asset management br...</td>\n",
       "      <td>NaN</td>\n",
       "      <td>NaN</td>\n",
       "    </tr>\n",
       "    <tr>\n",
       "      <th>2</th>\n",
       "      <td>33176873</td>\n",
       "      <td>hr</td>\n",
       "      <td>education and training masters degree informat...</td>\n",
       "      <td>experience hr director to current company name...</td>\n",
       "      <td>skills desktop publishing newsletter productio...</td>\n",
       "      <td>NaN</td>\n",
       "      <td>NaN</td>\n",
       "    </tr>\n",
       "    <tr>\n",
       "      <th>3</th>\n",
       "      <td>27018550</td>\n",
       "      <td>hr</td>\n",
       "      <td>education and training certificate of completi...</td>\n",
       "      <td>experience hr specialist may to oct company na...</td>\n",
       "      <td>skills key by touch type wpm filing access mic...</td>\n",
       "      <td>NaN</td>\n",
       "      <td>NaN</td>\n",
       "    </tr>\n",
       "    <tr>\n",
       "      <th>4</th>\n",
       "      <td>17812897</td>\n",
       "      <td>hr</td>\n",
       "      <td>education bachelor of business administration ...</td>\n",
       "      <td>experience hr manager jan to current company n...</td>\n",
       "      <td>skills ada adp art agency benefits benefits ad...</td>\n",
       "      <td>NaN</td>\n",
       "      <td>NaN</td>\n",
       "    </tr>\n",
       "  </tbody>\n",
       "</table>\n",
       "</div>"
      ],
      "text/plain": [
       "         id category                                          education  \\\n",
       "0  16852973       hr  education na business administration jefferson...   \n",
       "1  22323967       hr  education master of arts corporate communicati...   \n",
       "2  33176873       hr  education and training masters degree informat...   \n",
       "3  27018550       hr  education and training certificate of completi...   \n",
       "4  17812897       hr  education bachelor of business administration ...   \n",
       "\n",
       "                                          experience  \\\n",
       "0  experience hr administratormarketing associate...   \n",
       "1  experience to current hr specialist us hr oper...   \n",
       "2  experience hr director to current company name...   \n",
       "3  experience hr specialist may to oct company na...   \n",
       "4  experience hr manager jan to current company n...   \n",
       "\n",
       "                                              skills certifications  projects   \n",
       "0  skills benefits billing budgeting clients cust...            NaN        NaN  \n",
       "1  skills adobe photoshop adp asset management br...            NaN        NaN  \n",
       "2  skills desktop publishing newsletter productio...            NaN        NaN  \n",
       "3  skills key by touch type wpm filing access mic...            NaN        NaN  \n",
       "4  skills ada adp art agency benefits benefits ad...            NaN        NaN  "
      ]
     },
     "execution_count": 41,
     "metadata": {},
     "output_type": "execute_result"
    }
   ],
   "source": [
    "df = df.map(lambda x: x.lower() if isinstance(x , str) else x )\n",
    "\n",
    "\n",
    "df.head()"
   ]
  },
  {
   "cell_type": "code",
   "execution_count": 42,
   "metadata": {},
   "outputs": [
    {
     "data": {
      "text/html": [
       "<div>\n",
       "<style scoped>\n",
       "    .dataframe tbody tr th:only-of-type {\n",
       "        vertical-align: middle;\n",
       "    }\n",
       "\n",
       "    .dataframe tbody tr th {\n",
       "        vertical-align: top;\n",
       "    }\n",
       "\n",
       "    .dataframe thead th {\n",
       "        text-align: right;\n",
       "    }\n",
       "</style>\n",
       "<table border=\"1\" class=\"dataframe\">\n",
       "  <thead>\n",
       "    <tr style=\"text-align: right;\">\n",
       "      <th></th>\n",
       "      <th>id</th>\n",
       "      <th>category</th>\n",
       "      <th>education</th>\n",
       "      <th>experience</th>\n",
       "      <th>skills</th>\n",
       "      <th>certifications</th>\n",
       "      <th>projects</th>\n",
       "    </tr>\n",
       "  </thead>\n",
       "  <tbody>\n",
       "    <tr>\n",
       "      <th>0</th>\n",
       "      <td>16852973</td>\n",
       "      <td>hr</td>\n",
       "      <td>education : na business administration jeffers...</td>\n",
       "      <td>experience : hr administratormarketing associa...</td>\n",
       "      <td>skills : benefits billing budgeting clients cu...</td>\n",
       "      <td>NaN</td>\n",
       "      <td>NaN</td>\n",
       "    </tr>\n",
       "    <tr>\n",
       "      <th>1</th>\n",
       "      <td>22323967</td>\n",
       "      <td>hr</td>\n",
       "      <td>education : master of arts corporate communica...</td>\n",
       "      <td>experience : to current hr specialist us hr op...</td>\n",
       "      <td>skills : adobe photoshop adp asset management ...</td>\n",
       "      <td>NaN</td>\n",
       "      <td>NaN</td>\n",
       "    </tr>\n",
       "    <tr>\n",
       "      <th>2</th>\n",
       "      <td>33176873</td>\n",
       "      <td>hr</td>\n",
       "      <td>education : and training masters degree inform...</td>\n",
       "      <td>experience : hr director to current company na...</td>\n",
       "      <td>skills : desktop publishing newsletter product...</td>\n",
       "      <td>NaN</td>\n",
       "      <td>NaN</td>\n",
       "    </tr>\n",
       "    <tr>\n",
       "      <th>3</th>\n",
       "      <td>27018550</td>\n",
       "      <td>hr</td>\n",
       "      <td>education : and training certificate of comple...</td>\n",
       "      <td>experience : hr specialist may to oct company ...</td>\n",
       "      <td>skills : key by touch type wpm filing access m...</td>\n",
       "      <td>NaN</td>\n",
       "      <td>NaN</td>\n",
       "    </tr>\n",
       "    <tr>\n",
       "      <th>4</th>\n",
       "      <td>17812897</td>\n",
       "      <td>hr</td>\n",
       "      <td>education : bachelor of business administratio...</td>\n",
       "      <td>experience : hr manager jan to current company...</td>\n",
       "      <td>skills : ada adp art agency benefits benefits ...</td>\n",
       "      <td>NaN</td>\n",
       "      <td>NaN</td>\n",
       "    </tr>\n",
       "  </tbody>\n",
       "</table>\n",
       "</div>"
      ],
      "text/plain": [
       "         id category                                          education  \\\n",
       "0  16852973       hr  education : na business administration jeffers...   \n",
       "1  22323967       hr  education : master of arts corporate communica...   \n",
       "2  33176873       hr  education : and training masters degree inform...   \n",
       "3  27018550       hr  education : and training certificate of comple...   \n",
       "4  17812897       hr  education : bachelor of business administratio...   \n",
       "\n",
       "                                          experience  \\\n",
       "0  experience : hr administratormarketing associa...   \n",
       "1  experience : to current hr specialist us hr op...   \n",
       "2  experience : hr director to current company na...   \n",
       "3  experience : hr specialist may to oct company ...   \n",
       "4  experience : hr manager jan to current company...   \n",
       "\n",
       "                                              skills certifications  projects   \n",
       "0  skills : benefits billing budgeting clients cu...            NaN        NaN  \n",
       "1  skills : adobe photoshop adp asset management ...            NaN        NaN  \n",
       "2  skills : desktop publishing newsletter product...            NaN        NaN  \n",
       "3  skills : key by touch type wpm filing access m...            NaN        NaN  \n",
       "4  skills : ada adp art agency benefits benefits ...            NaN        NaN  "
      ]
     },
     "execution_count": 42,
     "metadata": {},
     "output_type": "execute_result"
    }
   ],
   "source": [
    "df.education = df.education.replace(r'^(education)' , r'\\1 :' , regex=True)\n",
    "df.experience = df.experience.replace(r'^(experience)' , r'\\1 :' , regex=True)\n",
    "df.skills = df.skills.replace(r'^(skills)' , r'\\1 :' , regex=True)\n",
    "\n",
    "\n",
    "df.head()"
   ]
  },
  {
   "cell_type": "code",
   "execution_count": 43,
   "metadata": {},
   "outputs": [
    {
     "name": "stdout",
     "output_type": "stream",
     "text": [
      "{'accountant': 0, 'advocate': 1, 'agriculture': 2, 'apparel': 3, 'arts': 4, 'automobile': 5, 'aviation': 6, 'banking': 7, 'bpo': 8, 'business-development': 9, 'chef': 10, 'construction': 11, 'consultant': 12, 'designer': 13, 'digital-media': 14, 'engineering': 15, 'finance': 16, 'fitness': 17, 'healthcare': 18, 'hr': 19, 'information-technology': 20, 'public-relations': 21, 'sales': 22, 'teacher': 23}\n"
     ]
    }
   ],
   "source": [
    "\n",
    "\n",
    "labelEncoder = LabelEncoder()\n",
    "\n",
    "df[\"label\"] = labelEncoder.fit_transform(df.category)\n",
    "\n",
    "label_mapping = dict(zip(labelEncoder.classes_, labelEncoder.transform(labelEncoder.classes_)))\n",
    "\n",
    "\n",
    "print(label_mapping)"
   ]
  },
  {
   "cell_type": "code",
   "execution_count": 44,
   "metadata": {},
   "outputs": [
    {
     "name": "stdout",
     "output_type": "stream",
     "text": [
      "{0: 'accountant', 1: 'advocate', 2: 'agriculture', 3: 'apparel', 4: 'arts', 5: 'automobile', 6: 'aviation', 7: 'banking', 8: 'bpo', 9: 'business-development', 10: 'chef', 11: 'construction', 12: 'consultant', 13: 'designer', 14: 'digital-media', 15: 'engineering', 16: 'finance', 17: 'fitness', 18: 'healthcare', 19: 'hr', 20: 'information-technology', 21: 'public-relations', 22: 'sales', 23: 'teacher'}\n"
     ]
    }
   ],
   "source": [
    "reverse_label_mapping = {v: k for k, v in label_mapping.items()}\n",
    "\n",
    "\n",
    "print(reverse_label_mapping)"
   ]
  },
  {
   "cell_type": "code",
   "execution_count": 45,
   "metadata": {},
   "outputs": [],
   "source": [
    "df[\"text\"] = df.education + \" \" + df.experience + \" \" + df.skills \n",
    "\n",
    "df.text = df.text.astype(str)"
   ]
  },
  {
   "cell_type": "code",
   "execution_count": 46,
   "metadata": {},
   "outputs": [
    {
     "name": "stderr",
     "output_type": "stream",
     "text": [
      "c:\\Users\\omar\\AppData\\Local\\Programs\\Python\\Python312\\Lib\\site-packages\\transformers\\tokenization_utils_base.py:1601: FutureWarning: `clean_up_tokenization_spaces` was not set. It will be set to `True` by default. This behavior will be depracted in transformers v4.45, and will be then set to `False` by default. For more details check this issue: https://github.com/huggingface/transformers/issues/31884\n",
      "  warnings.warn(\n"
     ]
    }
   ],
   "source": [
    "tokenizer = BertTokenizer.from_pretrained('bert-base-uncased') \n",
    "inputs = tokenizer(df.text.tolist(), padding=True, truncation=True, return_tensors=\"tf\", max_length=512)\n",
    "labels = df.label.tolist()\n",
    "\n",
    "\n",
    "df.to_csv(\"resumme_v3.csv\")"
   ]
  },
  {
   "cell_type": "code",
   "execution_count": 47,
   "metadata": {},
   "outputs": [
    {
     "name": "stdout",
     "output_type": "stream",
     "text": [
      "[0, 1, 2, 3, 4, 5, 6, 7, 8, 9, 10, 11, 12, 13, 14, 15, 16, 17, 18, 19, 20, 21, 22, 23]\n"
     ]
    }
   ],
   "source": [
    "print(sorted(df.label.unique()))"
   ]
  },
  {
   "cell_type": "code",
   "execution_count": 48,
   "metadata": {},
   "outputs": [],
   "source": [
    "train_texts, val_texts, train_labels, val_labels = train_test_split(df['text'], labels, test_size=0.2)\n"
   ]
  },
  {
   "cell_type": "code",
   "execution_count": 49,
   "metadata": {},
   "outputs": [],
   "source": [
    "train_encodings = tokenizer(train_texts.tolist(), truncation=True, padding=True, max_length=512)\n",
    "val_encodings = tokenizer(val_texts.tolist(), truncation=True, padding=True, max_length=512)"
   ]
  },
  {
   "cell_type": "code",
   "execution_count": 50,
   "metadata": {},
   "outputs": [],
   "source": [
    "train_dataset = tf.data.Dataset.from_tensor_slices((\n",
    "    dict(train_encodings),\n",
    "    train_labels\n",
    "))\n",
    "\n",
    "val_dataset = tf.data.Dataset.from_tensor_slices((\n",
    "    dict(val_encodings),\n",
    "    val_labels\n",
    "))\n"
   ]
  },
  {
   "cell_type": "code",
   "execution_count": 51,
   "metadata": {},
   "outputs": [
    {
     "name": "stderr",
     "output_type": "stream",
     "text": [
      "All PyTorch model weights were used when initializing TFBertForSequenceClassification.\n",
      "\n",
      "Some weights or buffers of the TF 2.0 model TFBertForSequenceClassification were not initialized from the PyTorch model and are newly initialized: ['classifier.weight', 'classifier.bias']\n",
      "You should probably TRAIN this model on a down-stream task to be able to use it for predictions and inference.\n"
     ]
    }
   ],
   "source": [
    "model = TFBertForSequenceClassification.from_pretrained('bert-base-uncased', num_labels=24)\n"
   ]
  },
  {
   "cell_type": "code",
   "execution_count": 52,
   "metadata": {},
   "outputs": [],
   "source": [
    "model.compile(optimizer=tf.keras.optimizers.Adam(learning_rate=5e-5),\n",
    "              loss=tf.keras.losses.SparseCategoricalCrossentropy(from_logits=True),\n",
    "              metrics=['accuracy'])\n"
   ]
  },
  {
   "cell_type": "code",
   "execution_count": 53,
   "metadata": {},
   "outputs": [
    {
     "name": "stdout",
     "output_type": "stream",
     "text": [
      "Epoch 1/6\n",
      "125/125 [==============================] - 3683s 29s/step - loss: 2.8176 - accuracy: 0.2174 - val_loss: 2.1523 - val_accuracy: 0.4668\n",
      "Epoch 2/6\n",
      "125/125 [==============================] - 3463s 28s/step - loss: 1.7736 - accuracy: 0.5627 - val_loss: 1.6253 - val_accuracy: 0.6016\n",
      "Epoch 3/6\n",
      "125/125 [==============================] - 3442s 28s/step - loss: 1.2504 - accuracy: 0.6839 - val_loss: 1.4704 - val_accuracy: 0.6358\n",
      "Epoch 4/6\n",
      "125/125 [==============================] - 3442s 28s/step - loss: 0.9301 - accuracy: 0.7690 - val_loss: 1.4590 - val_accuracy: 0.6278\n",
      "Epoch 5/6\n",
      "125/125 [==============================] - 3445s 28s/step - loss: 0.7508 - accuracy: 0.8083 - val_loss: 1.5126 - val_accuracy: 0.6258\n",
      "Epoch 6/6\n",
      "125/125 [==============================] - 3971s 30s/step - loss: 0.5821 - accuracy: 0.8435 - val_loss: 1.5725 - val_accuracy: 0.6338\n"
     ]
    },
    {
     "data": {
      "text/plain": [
       "<tf_keras.src.callbacks.History at 0x1e52b5853d0>"
      ]
     },
     "execution_count": 53,
     "metadata": {},
     "output_type": "execute_result"
    }
   ],
   "source": [
    "model.fit(train_dataset.shuffle(1000).batch(16),\n",
    "          validation_data=val_dataset.batch(64),\n",
    "          epochs=6)"
   ]
  },
  {
   "cell_type": "code",
   "execution_count": 54,
   "metadata": {},
   "outputs": [],
   "source": [
    "# metrics = [\n",
    "#     tf.keras.metrics.SparseCategoricalAccuracy(name=\"accuracy\"),\n",
    "#     tf.keras.metrics.Recall(name=\"recall\")\n",
    "# ]\n",
    "\n",
    "# # Compile your model with these metrics\n",
    "# model.compile(optimizer='adam', loss='sparse_categorical_crossentropy', metrics=metrics)\n",
    "\n",
    "# # Evaluate the model\n",
    "# results = model.evaluate(val_dataset)\n",
    "# print(f\"Test Accuracy: {results[1] * 100:.2f}%\")\n",
    "# print(f\"Test Recall: {results[2] * 100:.2f}%\")"
   ]
  },
  {
   "cell_type": "code",
   "execution_count": 55,
   "metadata": {},
   "outputs": [
    {
     "data": {
      "text/plain": [
       "('./tokenizer_v3\\\\tokenizer_config.json',\n",
       " './tokenizer_v3\\\\special_tokens_map.json',\n",
       " './tokenizer_v3\\\\vocab.txt',\n",
       " './tokenizer_v3\\\\added_tokens.json')"
      ]
     },
     "execution_count": 55,
     "metadata": {},
     "output_type": "execute_result"
    }
   ],
   "source": [
    "model.save_pretrained('./model_v3')\n",
    "tokenizer.save_pretrained('./tokenizer_v3')"
   ]
  },
  {
   "cell_type": "code",
   "execution_count": 56,
   "metadata": {},
   "outputs": [
    {
     "name": "stdout",
     "output_type": "stream",
     "text": [
      "Recommended Occupation : business-development\n"
     ]
    }
   ],
   "source": [
    "new_text = \"Experience: 3 years in project management. Education: MBA. Skills: Leadership, Communication, Strategic Planning.\"\n",
    "\n",
    "new_inputs = tokenizer(new_text, return_tensors=\"tf\", truncation=True, padding=True, max_length=128)\n",
    "\n",
    "predictions = model(new_inputs)\n",
    "\n",
    "predicted_label = tf.argmax(predictions.logits, axis=-1).numpy()[0]\n",
    "\n",
    "occupation = reverse_label_mapping[predicted_label]\n",
    "\n",
    "print(f\"Recommended Occupation : {occupation}\")"
   ]
  },
  {
   "cell_type": "code",
   "execution_count": 57,
   "metadata": {},
   "outputs": [],
   "source": [
    "\n",
    "# history = model.fit(\n",
    "#     train_dataset.shuffle(1000).batch(16),\n",
    "#     validation_data=val_dataset.batch(64),\n",
    "#     epochs=6,  # Set a higher number of epochs to allow early stopping to take effect\n",
    "#     initial_epoch=3,  # Start from the 4th epoch\n",
    "#      # Add the early stopping callback\n",
    "# )"
   ]
  },
  {
   "cell_type": "code",
   "execution_count": 58,
   "metadata": {},
   "outputs": [
    {
     "name": "stdout",
     "output_type": "stream",
     "text": [
      "Text: Experience: 5 years in software development. Education: Bachelor's in Computer Science. Skills: Python, Java, C++\n",
      "Recommended Occupation: information-technology\n",
      "\n",
      "Text: Experience: 3 years in project management. Education: MBA. Skills: Leadership, Communication, Strategic Planning.\n",
      "Recommended Occupation: business-development\n",
      "\n",
      "Text: Experience: 7 years in graphic design. Education: Bachelor's in Fine Arts. Skills: Photoshop, Illustrator, UI/UX Design.\n",
      "Recommended Occupation: designer\n",
      "\n"
     ]
    }
   ],
   "source": [
    "texts = [\n",
    "    \"Experience: 5 years in software development. Education: Bachelor's in Computer Science. Skills: Python, Java, C++\",\n",
    "    \"Experience: 3 years in project management. Education: MBA. Skills: Leadership, Communication, Strategic Planning.\",\n",
    "    \"Experience: 7 years in graphic design. Education: Bachelor's in Fine Arts. Skills: Photoshop, Illustrator, UI/UX Design.\"\n",
    "]\n",
    "\n",
    "\n",
    "inputs = tokenizer(texts, return_tensors=\"tf\", truncation=True, padding=True, max_length=128)\n",
    "\n",
    "predictions = model(inputs)\n",
    "\n",
    "predicted_labels = tf.argmax(predictions.logits, axis=-1).numpy()\n",
    "\n",
    "recommended_occupations = [reverse_label_mapping[label] for label in predicted_labels]\n",
    "\n",
    "# Print the recommendations\n",
    "for text, occupation in zip(texts, recommended_occupations):\n",
    "    print(f\"Text: {text}\\nRecommended Occupation: {occupation}\\n\")"
   ]
  },
  {
   "cell_type": "code",
   "execution_count": 66,
   "metadata": {},
   "outputs": [],
   "source": [
    "def probabilistic_prediction(text):\n",
    "    inputs = tokenizer(\n",
    "        text, return_tensors=\"tf\", truncation=True, padding=True, max_length=128\n",
    "    )\n",
    "\n",
    "    # Make predictions\n",
    "    predictions = model(inputs)\n",
    "\n",
    "    # Apply softmax to get probabilities\n",
    "    probabilities = tf.nn.softmax(predictions.logits, axis=-1).numpy()[0]\n",
    "\n",
    "    label_mapping = {\n",
    "        \"accountant\": 0,\n",
    "        \"advocate\": 1,\n",
    "        \"agriculture\": 2,\n",
    "        \"apparel\": 3,\n",
    "        \"arts\": 4,\n",
    "        \"automobile\": 5,\n",
    "        \"aviation\": 6,\n",
    "        \"banking\": 7,\n",
    "        \"bpo\": 8,\n",
    "        \"business-development\": 9,\n",
    "        \"chef\": 10,\n",
    "        \"construction\": 11,\n",
    "        \"consultant\": 12,\n",
    "        \"designer\": 13,\n",
    "        \"digital-media\": 14,\n",
    "        \"engineering\": 15,\n",
    "        \"finance\": 16,\n",
    "        \"fitness\": 17,\n",
    "        \"healthcare\": 18,\n",
    "        \"hr\": 19,\n",
    "        \"information-technology\": 20,\n",
    "        \"public-relations\": 21,\n",
    "        \"sales\": 22,\n",
    "        \"teacher\": 23,\n",
    "    }\n",
    "\n",
    "\n",
    "# Reverse the label mapping\n",
    "    reverse_label_mapping = {v: k for k, v in label_mapping.items()}\n",
    "\n",
    "    label_probabilities = [\n",
    "        (reverse_label_mapping[i], prob) for i, prob in enumerate(probabilities)\n",
    "    ]\n",
    "\n",
    "# Sort by probability (highest first)\n",
    "    label_probabilities.sort(key=lambda x: x[1], reverse=True)\n",
    "\n",
    "# Print out the compatibility percentages\n",
    "    print(\"Compatibility Percentages:\")\n",
    "    for label, prob in label_probabilities:\n",
    "        print(f\"{label}: {prob * 100:.2f}%\")"
   ]
  },
  {
   "cell_type": "code",
   "execution_count": 67,
   "metadata": {},
   "outputs": [
    {
     "name": "stdout",
     "output_type": "stream",
     "text": [
      "Compatibility Percentages:\n",
      "engineering: 48.86%\n",
      "information-technology: 25.35%\n",
      "aviation: 10.05%\n",
      "designer: 5.82%\n",
      "construction: 2.01%\n",
      "automobile: 1.56%\n",
      "consultant: 0.75%\n",
      "arts: 0.75%\n",
      "agriculture: 0.71%\n",
      "chef: 0.60%\n",
      "teacher: 0.39%\n",
      "healthcare: 0.35%\n",
      "fitness: 0.35%\n",
      "accountant: 0.31%\n",
      "bpo: 0.31%\n",
      "digital-media: 0.29%\n",
      "hr: 0.28%\n",
      "business-development: 0.27%\n",
      "advocate: 0.23%\n",
      "apparel: 0.19%\n",
      "sales: 0.18%\n",
      "finance: 0.17%\n",
      "banking: 0.13%\n",
      "public-relations: 0.09%\n"
     ]
    }
   ],
   "source": [
    "new_text = \"Experience: 5 years in software development, focusing on backend systems and API integration. Education: Bachelor's in Computer Science with a focus on software engineering principles. Skills: Python, Java, C++, RESTful API development, database management.\"\n",
    "probabilistic_prediction(new_text)\n"
   ]
  },
  {
   "cell_type": "code",
   "execution_count": 68,
   "metadata": {},
   "outputs": [
    {
     "name": "stdout",
     "output_type": "stream",
     "text": [
      "Compatibility Percentages:\n",
      "information-technology: 28.76%\n",
      "teacher: 25.72%\n",
      "accountant: 14.62%\n",
      "designer: 3.38%\n",
      "automobile: 3.28%\n",
      "arts: 3.00%\n",
      "construction: 2.36%\n",
      "finance: 2.12%\n",
      "aviation: 2.02%\n",
      "engineering: 1.83%\n",
      "hr: 1.79%\n",
      "bpo: 1.40%\n",
      "chef: 1.36%\n",
      "fitness: 1.30%\n",
      "banking: 1.28%\n",
      "advocate: 1.24%\n",
      "healthcare: 0.95%\n",
      "agriculture: 0.89%\n",
      "digital-media: 0.83%\n",
      "apparel: 0.70%\n",
      "sales: 0.45%\n",
      "consultant: 0.31%\n",
      "public-relations: 0.22%\n",
      "business-development: 0.18%\n"
     ]
    }
   ],
   "source": [
    "newer_text = \"Experience: 8 years in data science and machine learning. Education: Master's in Data Science. Skills: Python, R, TensorFlow, deep learning, natural language processing, statistical analysis.\"\n",
    "probabilistic_prediction(newer_text)"
   ]
  },
  {
   "cell_type": "code",
   "execution_count": 69,
   "metadata": {},
   "outputs": [
    {
     "name": "stdout",
     "output_type": "stream",
     "text": [
      "Compatibility Percentages:\n",
      "arts: 48.97%\n",
      "teacher: 41.50%\n",
      "public-relations: 1.53%\n",
      "advocate: 1.17%\n",
      "agriculture: 0.88%\n",
      "digital-media: 0.87%\n",
      "chef: 0.78%\n",
      "construction: 0.47%\n",
      "healthcare: 0.38%\n",
      "information-technology: 0.35%\n",
      "finance: 0.34%\n",
      "hr: 0.34%\n",
      "sales: 0.33%\n",
      "apparel: 0.31%\n",
      "aviation: 0.24%\n",
      "designer: 0.23%\n",
      "accountant: 0.22%\n",
      "automobile: 0.21%\n",
      "consultant: 0.18%\n",
      "banking: 0.17%\n",
      "business-development: 0.17%\n",
      "bpo: 0.13%\n",
      "fitness: 0.12%\n",
      "engineering: 0.09%\n"
     ]
    }
   ],
   "source": [
    "text_research = \"Experience: 10 years in academic research and university teaching. Education: PhD in Education. Skills: curriculum development, educational research, teaching methodologies, qualitative and quantitative analysis, public speaking.\"\n",
    "probabilistic_prediction(text_research)"
   ]
  },
  {
   "cell_type": "code",
   "execution_count": 70,
   "metadata": {},
   "outputs": [
    {
     "name": "stdout",
     "output_type": "stream",
     "text": [
      "Compatibility Percentages:\n",
      "teacher: 91.12%\n",
      "arts: 4.08%\n",
      "agriculture: 0.62%\n",
      "public-relations: 0.44%\n",
      "chef: 0.41%\n",
      "advocate: 0.40%\n",
      "information-technology: 0.36%\n",
      "sales: 0.35%\n",
      "construction: 0.26%\n",
      "digital-media: 0.24%\n",
      "aviation: 0.22%\n",
      "healthcare: 0.19%\n",
      "designer: 0.18%\n",
      "apparel: 0.16%\n",
      "hr: 0.15%\n",
      "finance: 0.14%\n",
      "business-development: 0.12%\n",
      "accountant: 0.11%\n",
      "fitness: 0.10%\n",
      "banking: 0.09%\n",
      "engineering: 0.09%\n",
      "automobile: 0.08%\n",
      "bpo: 0.06%\n",
      "consultant: 0.05%\n"
     ]
    }
   ],
   "source": [
    "teaching_text = \"Experience: 7 years as a high school teacher specializing in mathematics and science. Education: Bachelor's in Education. Skills: lesson planning, classroom management, student assessment, curriculum development, and educational technology.\"\n",
    "probabilistic_prediction(teaching_text)"
   ]
  },
  {
   "cell_type": "code",
   "execution_count": 71,
   "metadata": {},
   "outputs": [
    {
     "name": "stdout",
     "output_type": "stream",
     "text": [
      "Compatibility Percentages:\n",
      "arts: 80.69%\n",
      "teacher: 5.84%\n",
      "chef: 1.77%\n",
      "digital-media: 1.74%\n",
      "designer: 1.59%\n",
      "construction: 0.91%\n",
      "hr: 0.84%\n",
      "aviation: 0.74%\n",
      "public-relations: 0.74%\n",
      "advocate: 0.72%\n",
      "agriculture: 0.72%\n",
      "information-technology: 0.63%\n",
      "engineering: 0.42%\n",
      "automobile: 0.40%\n",
      "sales: 0.35%\n",
      "apparel: 0.34%\n",
      "business-development: 0.27%\n",
      "accountant: 0.24%\n",
      "finance: 0.23%\n",
      "healthcare: 0.22%\n",
      "consultant: 0.19%\n",
      "fitness: 0.17%\n",
      "bpo: 0.14%\n",
      "banking: 0.11%\n"
     ]
    }
   ],
   "source": [
    "technical_writing_text = \"Experience: 5 years as a technical writer, specializing in creating user manuals, product documentation, and online help systems. Education: Bachelor's in English or Communications. Skills: technical writing, documentation, content management, editing, and software tutorials.\"\n",
    "probabilistic_prediction(technical_writing_text)"
   ]
  },
  {
   "cell_type": "code",
   "execution_count": 72,
   "metadata": {},
   "outputs": [
    {
     "name": "stdout",
     "output_type": "stream",
     "text": [
      "Compatibility Percentages:\n",
      "information-technology: 92.07%\n",
      "engineering: 1.25%\n",
      "aviation: 1.02%\n",
      "designer: 0.94%\n",
      "automobile: 0.81%\n",
      "consultant: 0.79%\n",
      "arts: 0.52%\n",
      "bpo: 0.29%\n",
      "teacher: 0.28%\n",
      "accountant: 0.22%\n",
      "construction: 0.20%\n",
      "hr: 0.20%\n",
      "agriculture: 0.17%\n",
      "healthcare: 0.16%\n",
      "digital-media: 0.16%\n",
      "banking: 0.15%\n",
      "chef: 0.14%\n",
      "advocate: 0.13%\n",
      "apparel: 0.12%\n",
      "fitness: 0.12%\n",
      "finance: 0.11%\n",
      "sales: 0.06%\n",
      "business-development: 0.05%\n",
      "public-relations: 0.04%\n"
     ]
    }
   ],
   "source": [
    "software_text = \"Experience: 6 years as a software engineer specializing in full-stack development. Education: Bachelor's in Computer Science. Skills: Python, JavaScript, React, Node.js, RESTful APIs, cloud computing, and agile methodologies.\"\n",
    "probabilistic_prediction(software_text)"
   ]
  }
 ],
 "metadata": {
  "kernelspec": {
   "display_name": "Python 3",
   "language": "python",
   "name": "python3"
  },
  "language_info": {
   "codemirror_mode": {
    "name": "ipython",
    "version": 3
   },
   "file_extension": ".py",
   "mimetype": "text/x-python",
   "name": "python",
   "nbconvert_exporter": "python",
   "pygments_lexer": "ipython3",
   "version": "3.12.0"
  }
 },
 "nbformat": 4,
 "nbformat_minor": 2
}
